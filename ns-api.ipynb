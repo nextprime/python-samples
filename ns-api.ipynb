{
 "cells": [
  {
   "cell_type": "markdown",
   "metadata": {},
   "source": [
    "# NextPrime Python API demo\n",
    "\n",
    "Quick Jupyter lesson: It's like an interactive Python. Press `Shift Return` with the cursor in a cell; this sends the cell's code to the interpreter, prints its output and advances to the next cell."
   ]
  },
  {
   "cell_type": "code",
   "execution_count": 1,
   "metadata": {},
   "outputs": [],
   "source": [
    "import nprime_api\n",
    "import uuid\n",
    "%load_ext autoreload\n",
    "%autoreload"
   ]
  },
  {
   "cell_type": "markdown",
   "metadata": {},
   "source": [
    "## Configuration\n",
    "\n",
    "Your credentials go here."
   ]
  },
  {
   "cell_type": "code",
   "execution_count": 2,
   "metadata": {},
   "outputs": [],
   "source": [
    "username = \"username\"\n",
    "apikey = \"apikey\"\n",
    "venue = \"venue\"\n",
    "npsf = nprime_api.Config(username, apikey)"
   ]
  },
  {
   "cell_type": "markdown",
   "metadata": {},
   "source": [
    "## The Session object\n",
    "\n",
    "Sessions support connection reuse. "
   ]
  },
  {
   "cell_type": "code",
   "execution_count": 3,
   "metadata": {},
   "outputs": [],
   "source": [
    "s = npsf.new()"
   ]
  },
  {
   "cell_type": "code",
   "execution_count": 4,
   "metadata": {},
   "outputs": [
    {
     "data": {
      "text/plain": [
       "'pong'"
      ]
     },
     "execution_count": 4,
     "metadata": {},
     "output_type": "execute_result"
    }
   ],
   "source": [
    "s.ping()"
   ]
  },
  {
   "cell_type": "code",
   "execution_count": 5,
   "metadata": {},
   "outputs": [
    {
     "data": {
      "text/plain": [
       "{'brett_trader': {'accepted': {'_rev': 27986, 'jpy': 1000000},\n",
       "  'pending': {'_rev': 27986, 'jpy': 1001746.97}}}"
      ]
     },
     "execution_count": 5,
     "metadata": {},
     "output_type": "execute_result"
    }
   ],
   "source": [
    "s.get_all_balances(currency_list=[\"jpy\"])"
   ]
  },
  {
   "cell_type": "code",
   "execution_count": 6,
   "metadata": {},
   "outputs": [],
   "source": [
    "s.close()"
   ]
  },
  {
   "cell_type": "markdown",
   "metadata": {},
   "source": [
    "You can use a `with` handler to ensure the connection is closed."
   ]
  },
  {
   "cell_type": "code",
   "execution_count": 7,
   "metadata": {},
   "outputs": [
    {
     "name": "stdout",
     "output_type": "stream",
     "text": [
      "pong\n",
      "{'brett_trader': {'accepted': {'_rev': 27986, 'jpy': 1000000}, 'pending': {'_rev': 27986, 'jpy': 1001746.97}}} \n",
      "\n",
      "{'accepted': {'_rev': 27986, 'aud': 1000000, 'eur': 1000000, 'gbp': 1000000, 'jpy': 1000000, 'krw': 1000000, 'nzd': 1000000, 'sgd': 1000000, 'usd': 1000000}, 'pending': {'_rev': 27986, 'aud': 1000000, 'eur': 1000000, 'gbp': 1000000, 'jpy': 1001746.97, 'krw': 1000000, 'nzd': 1000000, 'sgd': 1000000, 'usd': 1008734.95}} \n",
      "\n",
      "{'accepted': {'_rev': 27986, 'jpy': 1000000}, 'pending': {'_rev': 27986, 'jpy': 1001746.97}}\n"
     ]
    }
   ],
   "source": [
    "with npsf.new() as s:\n",
    "    print (s.ping())\n",
    "    print (s.get_all_balances(currency_list=[\"jpy\"]), \"\\n\")\n",
    "    print (s.get_balance_for_user(username), \"\\n\")\n",
    "    print (s.get_balance_for_user(username, currency_list=[\"jpy\"]))"
   ]
  },
  {
   "cell_type": "markdown",
   "metadata": {},
   "source": [
    "## Trade data\n",
    "\n",
    "Please consult the API documentation for detailed semantics."
   ]
  },
  {
   "cell_type": "code",
   "execution_count": 8,
   "metadata": {},
   "outputs": [],
   "source": [
    "txid = str(uuid.uuid4())"
   ]
  },
  {
   "cell_type": "code",
   "execution_count": 9,
   "metadata": {},
   "outputs": [],
   "source": [
    "trade_data = dict(\n",
    "    trader=username,\n",
    "    venue=venue,\n",
    "    txid=txid,\n",
    "    side=\"SELL\",\n",
    "    symbol=\"BTCUSD\",\n",
    "    price=\"17.47\",\n",
    "    size=\"100\",\n",
    "    tradetime=\"20190807-20:03:22.243\",\n",
    "    cost=\"1747.00\",\n",
    "    cost_ccy=\"USD\",\n",
    "    fees=\"0.01\",\n",
    "    fees_ccy=\"USD\"\n",
    ")"
   ]
  },
  {
   "cell_type": "code",
   "execution_count": 10,
   "metadata": {},
   "outputs": [
    {
     "name": "stdout",
     "output_type": "stream",
     "text": [
      "{'accepted': {'_rev': 27987, 'aud': 1000000, 'eur': 1000000, 'gbp': 1000000, 'jpy': 1000000, 'krw': 1000000, 'nzd': 1000000, 'sgd': 1000000, 'usd': 1000000}, 'pending': {'_rev': 27987, 'aud': 1000000, 'eur': 1000000, 'gbp': 1000000, 'jpy': 1001746.97, 'krw': 1000000, 'nzd': 1000000, 'sgd': 1000000, 'usd': 1010481.94}}\n"
     ]
    }
   ],
   "source": [
    "with npsf.new() as s:\n",
    "    print (s.post_trade(trade_data, show_balances=True))"
   ]
  }
 ],
 "metadata": {
  "jupytext": {
   "formats": "ipynb,py:light",
   "notebook_metadata_filter": "-all"
  },
  "kernelspec": {
   "display_name": "Python 3",
   "language": "python",
   "name": "python3"
  },
  "language_info": {
   "codemirror_mode": {
    "name": "ipython",
    "version": 3
   },
   "file_extension": ".py",
   "mimetype": "text/x-python",
   "name": "python",
   "nbconvert_exporter": "python",
   "pygments_lexer": "ipython3",
   "version": "3.7.4"
  },
  "pycharm": {
   "stem_cell": {
    "cell_type": "raw",
    "metadata": {
     "collapsed": false
    },
    "source": []
   }
  }
 },
 "nbformat": 4,
 "nbformat_minor": 2
}
